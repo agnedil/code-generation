{
 "cells": [
  {
   "cell_type": "markdown",
   "id": "22732f14",
   "metadata": {},
   "source": [
    "# Generated code validation"
   ]
  },
  {
   "cell_type": "markdown",
   "id": "7294f3a0",
   "metadata": {},
   "source": [
    "### Add to generated code validation"
   ]
  },
  {
   "cell_type": "code",
   "execution_count": 1,
   "id": "ac9e7ed6",
   "metadata": {},
   "outputs": [],
   "source": [
    "import logging\n",
    "from helpers import (get_code_in_fences, remove_assert_statements, remove_print_function_statements,\n",
    "                     is_function, join_properly, clean_code, get_import_statements, merge_imports_with_code,\n",
    "                     split_code_on_main, remove_irrelevant_lines,)\n",
    "from prompts import ( complete_code_prompt_basic, complete_code_prompt, complete_code_prompt_full,\n",
    "                      complete_task_prompt_basic, complete_task_prompt, complete_task_prompt_full, )\n",
    "%load_ext autoreload\n",
    "%autoreload 2"
   ]
  },
  {
   "cell_type": "code",
   "execution_count": 2,
   "id": "6095aa57",
   "metadata": {},
   "outputs": [
    {
     "name": "stdout",
     "output_type": "stream",
     "text": [
      "def get_res(s):\n",
      "    return s.upper()\n",
      "\n",
      "\n"
     ]
    }
   ],
   "source": [
    "s = '''\n",
    "Here is an improved solution:\n",
    "```Python3\n",
    "def get_res(s):\n",
    "    return s.upper()\n",
    "```\n",
    "'''\n",
    "print(get_code_in_fences(s))\n",
    "print(get_code_in_fences(''))\n",
    "print(get_code_in_fences(' '))"
   ]
  },
  {
   "cell_type": "code",
   "execution_count": 3,
   "id": "ea099823",
   "metadata": {},
   "outputs": [
    {
     "name": "stdout",
     "output_type": "stream",
     "text": [
      "\n",
      "def is_lower(s):\n",
      "    s = s[::-1]\n",
      "    return s.lower() \n",
      "\n",
      "\n",
      " \n"
     ]
    }
   ],
   "source": [
    "s = '''\n",
    "def is_lower(s):\n",
    "    s = s[::-1]\n",
    "    return s.lower() \n",
    "\n",
    "assert is_lower(\"InValid\") == \"invalid\"\n",
    "assert is_lower(\"TruE\") == \"true\"\n",
    "assert is_lower(\"SenTenCE\") == \"sentence\"\n",
    "'''\n",
    "print(remove_assert_statements(s))\n",
    "print(remove_assert_statements(''))\n",
    "print(remove_assert_statements(' '))"
   ]
  },
  {
   "cell_type": "code",
   "execution_count": 4,
   "id": "1e74ac9d",
   "metadata": {},
   "outputs": [
    {
     "name": "stdout",
     "output_type": "stream",
     "text": [
      "def check_value(dict, value):\n",
      "    return all(val == value for val in dict.values())\n",
      "\n",
      "\n",
      " \n"
     ]
    }
   ],
   "source": [
    "s = \"\"\"def check_value(dict, value):\n",
    "    return all(val == value for val in dict.values())\n",
    "\n",
    "print(check_value({'Cierra Vega': 12, 'Alden Cantrell': 12, 'Kierra Gentry': 12, 'Pierre Cox': 12},10))\n",
    " print(check_value({'Cierra Vega': 12, 'Alden Cantrell': 12, 'Kierra Gentry': 12, 'Pierre Cox': 12},12))\n",
    "  print(check_value( {'Cierra Vega': 12, 'Alden Cantrell': 12, 'Kierra Gentry': 12, 'Pierre Cox': 12},5))\n",
    "    print( check_value({'Cierra Vega': 12, 'Alden Cantrell': 12, 'Kierra Gentry': 12, 'Pierre Cox': 12},5))\n",
    "\"\"\"\n",
    "print(remove_print_function_statements(s))\n",
    "print(remove_print_function_statements(''))\n",
    "print(remove_print_function_statements(' '))"
   ]
  },
  {
   "cell_type": "code",
   "execution_count": 5,
   "id": "2f75bfae",
   "metadata": {},
   "outputs": [
    {
     "name": "stdout",
     "output_type": "stream",
     "text": [
      "True\n",
      "False\n"
     ]
    }
   ],
   "source": [
    "s1 = '''\n",
    "def func():\n",
    "    return\n",
    "'''\n",
    "s2 = '''\n",
    "return\n",
    "'''\n",
    "for s in [s1, s2]:\n",
    "    print(is_function(s))"
   ]
  },
  {
   "cell_type": "code",
   "execution_count": 6,
   "id": "6015d0bb",
   "metadata": {},
   "outputs": [],
   "source": [
    "s1 = '''\n",
    "Here is an improved solution:\n",
    "``` Python3\n",
    "def get_res(s):\n",
    "    return s.upper()\n",
    "```\n",
    "'''\n",
    "\n",
    "s2 = '''\n",
    "The proposed solution is already correct. It defines a Python function named 'is_lower', which takes a string 's' as input and returns the string in lower case. The function uses the 'lower' method of the string class to achieve this. \n",
    "\n",
    "The proposed solution has already been optimally improved, eliminating redundancies and ensuring the code is runnable. Also, the output meets all the given requirements including, the correct implementation of the function, absence of extra text or symbols, and execution-ready code. No additional error corrections or improvements are needed as per your instruction. \n",
    "\n",
    "The proposed solution:\n",
    "\n",
    "```python\n",
    "def is_lower(s):\n",
    "    s = s[::-1]\n",
    "    return s.lower() \n",
    "\n",
    "assert is_lower(\"InValid\") == \"invalid\"\n",
    "assert is_lower(\"TruE\") == \"true\"\n",
    "assert is_lower(\"SenTenCE\") == \"sentence\"\n",
    "'''\n",
    "\n",
    "s3 = \"\"\"def check_value(dict, value):\n",
    "    return all(val == value for val in dict.values())\n",
    "\n",
    "print(check_value({'Cierra Vega': 12, 'Alden Cantrell': 12, 'Kierra Gentry': 12, 'Pierre Cox': 12},10))\n",
    "print(check_value({'Cierra Vega': 12, 'Alden Cantrell': 12, 'Kierra Gentry': 12, 'Pierre Cox': 12},12))\n",
    "print(check_value({'Cierra Vega': 12, 'Alden Cantrell': 12, 'Kierra Gentry': 12, 'Pierre Cox': 12},5))\n",
    "\"\"\"\n",
    "\n",
    "s4 = '''\n",
    "Here is an improved solution:\n",
    "```Python3\n",
    "def get_res(s):\n",
    "    return s.upper()\n",
    "```\n",
    "'''\n",
    "\n",
    "signature = '''import collections\n",
    "import random\n",
    "import string\n",
    "\n",
    "def task_func(length=100):\n",
    "    \"\"\" Function to perform a task \"\"\"\n",
    "'''"
   ]
  },
  {
   "cell_type": "code",
   "execution_count": 7,
   "id": "0478f82a",
   "metadata": {},
   "outputs": [
    {
     "name": "stdout",
     "output_type": "stream",
     "text": [
      "Iteration 1\n",
      "\n",
      "from typing import *\n",
      "\n",
      "def get_res(s):\n",
      "    return s.upper() \n",
      "\n",
      "---------------------------------------------------------------------------\n",
      "from typing import *\n",
      "import collections\n",
      "import random\n",
      "import string\n",
      "def get_res(s):\n",
      "    return s.upper() \n",
      "\n",
      "===========================================================================\n",
      "Iteration 2\n",
      "\n",
      "from typing import *\n",
      "\n",
      "def is_lower(s):\n",
      "    s = s[::-1]\n",
      "    return s.lower() \n",
      "\n",
      "---------------------------------------------------------------------------\n",
      "from typing import *\n",
      "import collections\n",
      "import random\n",
      "import string\n",
      "def is_lower(s):\n",
      "    s = s[::-1]\n",
      "    return s.lower() \n",
      "\n",
      "===========================================================================\n",
      "Iteration 3\n",
      "\n",
      "from typing import *\n",
      "\n",
      "def check_value(dict, value):\n",
      "    return all(val == value for val in dict.values()) \n",
      "\n",
      "---------------------------------------------------------------------------\n",
      "from typing import *\n",
      "import collections\n",
      "import random\n",
      "import string\n",
      "def check_value(dict, value):\n",
      "    return all(val == value for val in dict.values()) \n",
      "\n",
      "===========================================================================\n"
     ]
    }
   ],
   "source": [
    "for idx, s in enumerate([s1, s2, s3]):\n",
    "    print(f'Iteration {idx+1}\\n')\n",
    "    print(clean_code(s), '\\n')\n",
    "    print('-'*75, sep='')\n",
    "    print(clean_code(s, signature), '\\n')\n",
    "    print('='*75, sep='')"
   ]
  },
  {
   "cell_type": "code",
   "execution_count": 8,
   "id": "1435bc06",
   "metadata": {},
   "outputs": [
    {
     "name": "stdout",
     "output_type": "stream",
     "text": [
      "import collections\n",
      "import random\n",
      "import string\n"
     ]
    }
   ],
   "source": [
    "signature = '''import collections\n",
    "import random\n",
    "import string\n",
    "\n",
    "def task_func(length=100):\n",
    "    \"\"\" Function to perform a task \"\"\"\n",
    "'''\n",
    "print( get_import_statements(signature) )"
   ]
  },
  {
   "cell_type": "code",
   "execution_count": 9,
   "id": "38c8d079",
   "metadata": {},
   "outputs": [
    {
     "name": "stdout",
     "output_type": "stream",
     "text": [
      "from typing import *\n",
      "import collections\n",
      "import random\n",
      "import string\n",
      "def simplify(x, n):\n",
      "    from fractions import Fraction\n",
      "    x = Fraction(x)\n",
      "    n = Fraction(n)\n",
      "    return (x * n).denominator == 1\n"
     ]
    }
   ],
   "source": [
    "# import statement in code is not supposed to be extracted\n",
    "signature = '''import collections\n",
    "import random\n",
    "import string\n",
    "\n",
    "def task_func(length=100):\n",
    "    \"\"\" Function to perform a task \"\"\"\n",
    "'''\n",
    "\n",
    "code = '''def simplify(x, n):\n",
    "    from fractions import Fraction\n",
    "    x = Fraction(x)\n",
    "    n = Fraction(n)\n",
    "    return (x * n).denominator == 1'''\n",
    "\n",
    "print( clean_code(code, signature) )"
   ]
  },
  {
   "cell_type": "code",
   "execution_count": 10,
   "id": "d3b72c12",
   "metadata": {},
   "outputs": [
    {
     "name": "stdout",
     "output_type": "stream",
     "text": [
      "\n"
     ]
    }
   ],
   "source": [
    "# lines starting with 'from' shouldn't be extracted from docstring\n",
    "signature = \"\"\"\n",
    "def closest_integer(value):\n",
    "    '''\n",
    "    Create a function that takes a value (string) representing a number\n",
    "    and returns the closest integer to it. If the number is equidistant\n",
    "    from two integers, round it away from zero.\n",
    "\n",
    "    Examples\n",
    "    >>> closest_integer(\"10\")\n",
    "    10\n",
    "    >>> closest_integer(\"15.3\")\n",
    "    15\n",
    "\n",
    "    Note:\n",
    "    Rounding away from zero means that if the given number is equidistant\n",
    "    from two integers, the one you should return is the one that is the\n",
    "    farthest from zero. For example closest_integer(\"14.5\") should\n",
    "    return 15 and closest_integer(\"-14.5\") should return -15.\n",
    "    '''\n",
    "\"\"\"\n",
    "print( get_import_statements(signature) )"
   ]
  },
  {
   "cell_type": "code",
   "execution_count": 11,
   "id": "03ebc362",
   "metadata": {},
   "outputs": [
    {
     "name": "stdout",
     "output_type": "stream",
     "text": [
      "\n",
      "import time\n",
      "import datetime\n",
      "\n",
      "def task_func(length=100):\n",
      "    length *= 100\n",
      "    return 5 + length\n",
      " \n",
      "\n",
      "---------------------------------------------------------------------------\n",
      "from typing import *\n",
      "import time\n",
      "import datetime\n",
      "\n",
      "def task_func(length=100):\n",
      "    length *= 100\n",
      "    return 5 + length \n",
      "\n",
      "===========================================================================\n",
      "\n",
      "def task_func(length=100):\n",
      "    length *= 100\n",
      "    return 5 + length\n",
      " \n",
      "\n",
      "---------------------------------------------------------------------------\n",
      "from typing import *\n",
      "\n",
      "def task_func(length=100):\n",
      "    length *= 100\n",
      "    return 5 + length \n",
      "\n",
      "===========================================================================\n"
     ]
    }
   ],
   "source": [
    "code1 = '''\n",
    "import time\n",
    "import datetime\n",
    "\n",
    "def task_func(length=100):\n",
    "    length *= 100\n",
    "    return 5 + length\n",
    "'''\n",
    "\n",
    "code2 = '''\n",
    "def task_func(length=100):\n",
    "    length *= 100\n",
    "    return 5 + length\n",
    "'''\n",
    "\n",
    "for code in [code1, code2]:\n",
    "    print(merge_imports_with_code(signature, code), '\\n')\n",
    "    print('-'*75, sep='')\n",
    "    print(clean_code(code, signature), '\\n')\n",
    "    print('='*75, sep='')"
   ]
  },
  {
   "cell_type": "code",
   "execution_count": null,
   "id": "4b5979dc",
   "metadata": {},
   "outputs": [],
   "source": []
  },
  {
   "cell_type": "code",
   "execution_count": 31,
   "id": "0882067d",
   "metadata": {},
   "outputs": [],
   "source": [
    "# overwrite any previous handlers with different formats\n",
    "for handler in logging.root.handlers[:]:\n",
    "    logging.root.removeHandler(handler)\n",
    "\n",
    "logging.basicConfig(\n",
    "    level=logging.INFO,\n",
    "    format='%(asctime)s  %(levelname)s  %(message)s',\n",
    "    handlers=[\n",
    "        logging.FileHandler(\"app.log\"),             # Log to a file\n",
    "        logging.StreamHandler(sys.stdout)           # Log to console (default - sys.stderr (red background)\n",
    "    ]\n",
    ")"
   ]
  },
  {
   "cell_type": "code",
   "execution_count": 14,
   "id": "4d6d3571",
   "metadata": {},
   "outputs": [],
   "source": [
    "func = '''def my_function(param):\n",
    "    return param*2'''\n",
    "logging.info(f'This message will be printed on screen and recorded in the log file.\\n{func}')\n",
    "logging.info(f'\\n{func}')"
   ]
  },
  {
   "cell_type": "code",
   "execution_count": null,
   "id": "9a6a937c",
   "metadata": {},
   "outputs": [],
   "source": []
  },
  {
   "cell_type": "code",
   "execution_count": 15,
   "id": "600b00d3",
   "metadata": {},
   "outputs": [
    {
     "name": "stdout",
     "output_type": "stream",
     "text": [
      "def greet():\n",
      "    print(\"Hello, World!\")\n",
      "def greet():\n",
      "    print(\"Hello, World!\")\n"
     ]
    }
   ],
   "source": [
    "sample_code1 = \"\"\"\n",
    "def greet():\n",
    "    print(\"Hello, World!\")\n",
    "\n",
    "if __name__ == '__main__':\n",
    "    greet()\n",
    "    \"\"\"\n",
    "sample_code2 = \"\"\"\n",
    "def greet():\n",
    "    print(\"Hello, World!\")\n",
    "\n",
    "if __name__ == \"__main__\":\n",
    "    greet()\n",
    "    \"\"\"\n",
    "for sample_code in [sample_code1, sample_code2]:\n",
    "    result = split_code_on_main(sample_code)\n",
    "    print(result)"
   ]
  },
  {
   "cell_type": "code",
   "execution_count": 18,
   "id": "ff618ba8",
   "metadata": {},
   "outputs": [
    {
     "name": "stdout",
     "output_type": "stream",
     "text": [
      "\n",
      "def greet():\n",
      "    print(\"Hello, World!\")\n"
     ]
    }
   ],
   "source": [
    "sample_code = \"\"\"\n",
    "[code]\n",
    "def greet():\n",
    "    print(\"Hello, World!\")\n",
    "[/code]\n",
    "```\n",
    "\"\"\"\n",
    "print(remove_irrelevant_lines(sample_code))"
   ]
  },
  {
   "cell_type": "code",
   "execution_count": null,
   "id": "e739c2db",
   "metadata": {},
   "outputs": [],
   "source": []
  },
  {
   "cell_type": "code",
   "execution_count": 19,
   "id": "6f70f19e",
   "metadata": {},
   "outputs": [
    {
     "name": "stdout",
     "output_type": "stream",
     "text": [
      "def search(lst):\n",
      "    '''\n",
      "    You are given a non-empty list of positive integers. Return the greatest integer that is greater than \n",
      "    zero, and has a frequency greater than or equal to the value of the integer itself. \n",
      "    The frequency of an integer is the number of times it appears in the list.\n",
      "    If no such a value exist, return -1.\n",
      "    Examples:\n",
      "        search([4, 1, 2, 2, 3, 1]) == 2\n",
      "        search([1, 2, 2, 3, 3, 3, 4, 4, 4]) == 3\n",
      "        search([5, 5, 4, 4, 4]) == -1\n",
      "    '''\n",
      "    res = 0\n",
      "    for i in range(11):\n",
      "        res += i\n",
      "    return res\n",
      "---------------------------------------------------------------------------\n",
      "def search(lst):\n",
      "    '''\n",
      "    You are given a non-empty list of positive integers. Return the greatest integer that is greater than \n",
      "    zero, and has a frequency greater than or equal to the value of the integer itself. \n",
      "    The frequency of an integer is the number of times it appears in the list.\n",
      "    If no such a value exist, return -1.\n",
      "    Examples:\n",
      "        search([4, 1, 2, 2, 3, 1]) == 2\n",
      "        search([1, 2, 2, 3, 3, 3, 4, 4, 4]) == 3\n",
      "        search([5, 5, 4, 4, 4]) == -1\n",
      "    '''\n",
      "    res = 0\n",
      "    for i in range(11):\n",
      "        res += i\n",
      "    return res\n"
     ]
    }
   ],
   "source": [
    "signature = \"\"\"\n",
    "\n",
    "def search(lst):\n",
    "    '''\n",
    "    You are given a non-empty list of positive integers. Return the greatest integer that is greater than \n",
    "    zero, and has a frequency greater than or equal to the value of the integer itself. \n",
    "    The frequency of an integer is the number of times it appears in the list.\n",
    "    If no such a value exist, return -1.\n",
    "    Examples:\n",
    "        search([4, 1, 2, 2, 3, 1]) == 2\n",
    "        search([1, 2, 2, 3, 3, 3, 4, 4, 4]) == 3\n",
    "        search([5, 5, 4, 4, 4]) == -1\n",
    "    '''\n",
    "\n",
    "\"\"\"\n",
    "\n",
    "completion1 = '''\n",
    "res = 0\n",
    "for i in range(11):\n",
    "    res += i\n",
    "return res\n",
    "'''\n",
    "\n",
    "completion2 = '''\n",
    "    res = 0\n",
    "    for i in range(11):\n",
    "        res += i\n",
    "    return res\n",
    "'''\n",
    "\n",
    "print(join_properly(signature, completion1))\n",
    "print('-'*75, sep='')\n",
    "print(join_properly(signature, completion2))"
   ]
  },
  {
   "cell_type": "code",
   "execution_count": null,
   "id": "04f8c4b5",
   "metadata": {},
   "outputs": [],
   "source": []
  },
  {
   "cell_type": "code",
   "execution_count": null,
   "id": "052c84f8",
   "metadata": {},
   "outputs": [],
   "source": []
  },
  {
   "cell_type": "code",
   "execution_count": null,
   "id": "d9b3ce82",
   "metadata": {},
   "outputs": [],
   "source": []
  },
  {
   "cell_type": "code",
   "execution_count": null,
   "id": "350e5d1a",
   "metadata": {},
   "outputs": [],
   "source": []
  },
  {
   "cell_type": "code",
   "execution_count": null,
   "id": "27bf7117",
   "metadata": {},
   "outputs": [],
   "source": []
  },
  {
   "cell_type": "code",
   "execution_count": null,
   "id": "8259ef3b",
   "metadata": {},
   "outputs": [],
   "source": []
  },
  {
   "cell_type": "code",
   "execution_count": null,
   "id": "3b7ffcb9",
   "metadata": {},
   "outputs": [],
   "source": []
  },
  {
   "cell_type": "code",
   "execution_count": null,
   "id": "751fe9ea",
   "metadata": {},
   "outputs": [],
   "source": []
  }
 ],
 "metadata": {
  "kernelspec": {
   "display_name": "Python 3 (ipykernel)",
   "language": "python",
   "name": "python3"
  },
  "language_info": {
   "codemirror_mode": {
    "name": "ipython",
    "version": 3
   },
   "file_extension": ".py",
   "mimetype": "text/x-python",
   "name": "python",
   "nbconvert_exporter": "python",
   "pygments_lexer": "ipython3",
   "version": "3.11.11"
  }
 },
 "nbformat": 4,
 "nbformat_minor": 5
}
