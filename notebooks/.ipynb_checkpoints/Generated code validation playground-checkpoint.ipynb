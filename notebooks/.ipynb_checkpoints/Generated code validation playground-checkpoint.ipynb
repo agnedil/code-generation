{
 "cells": [
  {
   "cell_type": "markdown",
   "id": "22732f14",
   "metadata": {},
   "source": [
    "# Generated code validation"
   ]
  },
  {
   "cell_type": "markdown",
   "id": "7294f3a0",
   "metadata": {},
   "source": [
    "### Add to generated code validation"
   ]
  },
  {
   "cell_type": "code",
   "execution_count": 1,
   "id": "ac9e7ed6",
   "metadata": {},
   "outputs": [],
   "source": [
    "import logging\n",
    "from helpers import (get_code_in_fences, remove_assert_statements, remove_print_function_statements,\n",
    "                     is_function, join_properly, clean_code, get_import_statements, )"
   ]
  },
  {
   "cell_type": "code",
   "execution_count": 2,
   "id": "6095aa57",
   "metadata": {},
   "outputs": [
    {
     "name": "stdout",
     "output_type": "stream",
     "text": [
      "def get_res(s):\n",
      "    return s.upper()\n",
      "\n",
      "\n"
     ]
    }
   ],
   "source": [
    "s = '''\n",
    "Here is an improved solution:\n",
    "```Python3\n",
    "def get_res(s):\n",
    "    return s.upper()\n",
    "```\n",
    "'''\n",
    "print(get_code_in_fences(s))\n",
    "print(get_code_in_fences(''))\n",
    "print(get_code_in_fences(' '))"
   ]
  },
  {
   "cell_type": "code",
   "execution_count": 3,
   "id": "ea099823",
   "metadata": {},
   "outputs": [
    {
     "name": "stdout",
     "output_type": "stream",
     "text": [
      "def is_lower(s):\n",
      "    s = s[::-1]\n",
      "    return s.lower()\n",
      "\n",
      "\n"
     ]
    }
   ],
   "source": [
    "s = '''\n",
    "def is_lower(s):\n",
    "    s = s[::-1]\n",
    "    return s.lower() \n",
    "\n",
    "assert is_lower(\"InValid\") == \"invalid\"\n",
    "assert is_lower(\"TruE\") == \"true\"\n",
    "assert is_lower(\"SenTenCE\") == \"sentence\"\n",
    "'''\n",
    "print(remove_assert_statements(s))\n",
    "print(remove_assert_statements(''))\n",
    "print(remove_assert_statements(' '))"
   ]
  },
  {
   "cell_type": "code",
   "execution_count": 4,
   "id": "1e74ac9d",
   "metadata": {},
   "outputs": [
    {
     "name": "stdout",
     "output_type": "stream",
     "text": [
      "def check_value(dict, value):\n",
      "    return all(val == value for val in dict.values())\n",
      "\n",
      "\n"
     ]
    }
   ],
   "source": [
    "s = \"\"\"def check_value(dict, value):\n",
    "    return all(val == value for val in dict.values())\n",
    "\n",
    "print(check_value({'Cierra Vega': 12, 'Alden Cantrell': 12, 'Kierra Gentry': 12, 'Pierre Cox': 12},10))\n",
    " print(check_value({'Cierra Vega': 12, 'Alden Cantrell': 12, 'Kierra Gentry': 12, 'Pierre Cox': 12},12))\n",
    "  print(check_value( {'Cierra Vega': 12, 'Alden Cantrell': 12, 'Kierra Gentry': 12, 'Pierre Cox': 12},5))\n",
    "    print( check_value({'Cierra Vega': 12, 'Alden Cantrell': 12, 'Kierra Gentry': 12, 'Pierre Cox': 12},5))\n",
    "\"\"\"\n",
    "print(remove_print_function_statements(s))\n",
    "print(remove_print_function_statements(''))\n",
    "print(remove_print_function_statements(' '))"
   ]
  },
  {
   "cell_type": "code",
   "execution_count": 5,
   "id": "2f75bfae",
   "metadata": {},
   "outputs": [
    {
     "name": "stdout",
     "output_type": "stream",
     "text": [
      "True\n",
      "False\n"
     ]
    }
   ],
   "source": [
    "s1 = '''\n",
    "def func():\n",
    "    return\n",
    "'''\n",
    "s2 = '''\n",
    "return\n",
    "'''\n",
    "for s in [s1, s2]:\n",
    "    print(is_function(s))"
   ]
  },
  {
   "cell_type": "code",
   "execution_count": 6,
   "id": "6015d0bb",
   "metadata": {},
   "outputs": [],
   "source": [
    "s1 = '''\n",
    "Here is an improved solution:\n",
    "``` Python3\n",
    "def get_res(s):\n",
    "    return s.upper()\n",
    "```\n",
    "'''\n",
    "\n",
    "s2 = '''\n",
    "The proposed solution is already correct. It defines a Python function named 'is_lower', which takes a string 's' as input and returns the string in lower case. The function uses the 'lower' method of the string class to achieve this. \n",
    "\n",
    "The proposed solution has already been optimally improved, eliminating redundancies and ensuring the code is runnable. Also, the output meets all the given requirements including, the correct implementation of the function, absence of extra text or symbols, and execution-ready code. No additional error corrections or improvements are needed as per your instruction. \n",
    "\n",
    "The proposed solution:\n",
    "\n",
    "```python\n",
    "def is_lower(s):\n",
    "    s = s[::-1]\n",
    "    return s.lower() \n",
    "\n",
    "assert is_lower(\"InValid\") == \"invalid\"\n",
    "assert is_lower(\"TruE\") == \"true\"\n",
    "assert is_lower(\"SenTenCE\") == \"sentence\"\n",
    "'''\n",
    "\n",
    "s3 = \"\"\"def check_value(dict, value):\n",
    "    return all(val == value for val in dict.values())\n",
    "\n",
    "print(check_value({'Cierra Vega': 12, 'Alden Cantrell': 12, 'Kierra Gentry': 12, 'Pierre Cox': 12},10))\n",
    "print(check_value({'Cierra Vega': 12, 'Alden Cantrell': 12, 'Kierra Gentry': 12, 'Pierre Cox': 12},12))\n",
    "print(check_value({'Cierra Vega': 12, 'Alden Cantrell': 12, 'Kierra Gentry': 12, 'Pierre Cox': 12},5))\n",
    "\"\"\""
   ]
  },
  {
   "cell_type": "code",
   "execution_count": 7,
   "id": "0478f82a",
   "metadata": {},
   "outputs": [
    {
     "name": "stdout",
     "output_type": "stream",
     "text": [
      "from typing import *\n",
      "def get_res(s):\n",
      "    return s.upper() \n",
      "\n",
      "from typing import *\n",
      "def is_lower(s):\n",
      "    s = s[::-1]\n",
      "    return s.lower() \n",
      "\n",
      "from typing import *\n",
      "def check_value(dict, value):\n",
      "    return all(val == value for val in dict.values()) \n",
      "\n"
     ]
    }
   ],
   "source": [
    "for s in [s1, s2, s3]:\n",
    "    print(clean_code(s), '\\n')"
   ]
  },
  {
   "cell_type": "code",
   "execution_count": 8,
   "id": "1435bc06",
   "metadata": {},
   "outputs": [
    {
     "name": "stdout",
     "output_type": "stream",
     "text": [
      "from typing import *\n",
      "import collections\n",
      "import random\n",
      "import string\n",
      "\n"
     ]
    }
   ],
   "source": [
    "code_with_imports = '''import collections\n",
    "import random\n",
    "import string\n",
    "\n",
    "def task_func(length=100):\n",
    "    return 1\n",
    "'''\n",
    "print( get_import_statements(code_with_imports) )"
   ]
  },
  {
   "cell_type": "code",
   "execution_count": null,
   "id": "0ad95968",
   "metadata": {},
   "outputs": [],
   "source": []
  },
  {
   "cell_type": "code",
   "execution_count": 31,
   "id": "0882067d",
   "metadata": {},
   "outputs": [],
   "source": [
    "# to overwrite any previous handlers with different formats\n",
    "for handler in logging.root.handlers[:]:\n",
    "    logging.root.removeHandler(handler)\n",
    "\n",
    "logging.basicConfig(\n",
    "    level=logging.INFO,\n",
    "    format='%(asctime)s  %(levelname)s  %(message)s',\n",
    "    handlers=[\n",
    "        logging.FileHandler(\"app.log\"),             # Log to a file\n",
    "        logging.StreamHandler(sys.stdout)           # Log to console (default - sys.stderr (red background)\n",
    "    ]\n",
    ")"
   ]
  },
  {
   "cell_type": "code",
   "execution_count": 32,
   "id": "4d6d3571",
   "metadata": {},
   "outputs": [
    {
     "name": "stdout",
     "output_type": "stream",
     "text": [
      "2025-03-07 00:00:48,378  INFO  This message will be printed on screen and recorded in the log file.\n",
      "def my_function(param):\n",
      "    return param*2\n",
      "2025-03-07 00:00:48,380  INFO  \n",
      "def my_function(param):\n",
      "    return param*2\n"
     ]
    }
   ],
   "source": [
    "func = '''def my_function(param):\n",
    "    return param*2'''\n",
    "logging.info(f'This message will be printed on screen and recorded in the log file.\\n{func}')\n",
    "logging.info(f'\\n{func}')"
   ]
  },
  {
   "cell_type": "code",
   "execution_count": null,
   "id": "1ce52bba",
   "metadata": {},
   "outputs": [],
   "source": []
  },
  {
   "cell_type": "code",
   "execution_count": 7,
   "id": "5a0b5c0d",
   "metadata": {},
   "outputs": [],
   "source": []
  }
 ],
 "metadata": {
  "kernelspec": {
   "display_name": "Python 3 (ipykernel)",
   "language": "python",
   "name": "python3"
  },
  "language_info": {
   "codemirror_mode": {
    "name": "ipython",
    "version": 3
   },
   "file_extension": ".py",
   "mimetype": "text/x-python",
   "name": "python",
   "nbconvert_exporter": "python",
   "pygments_lexer": "ipython3",
   "version": "3.11.11"
  }
 },
 "nbformat": 4,
 "nbformat_minor": 5
}
